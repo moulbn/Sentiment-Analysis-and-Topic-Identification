{
 "cells": [
  {
   "cell_type": "markdown",
   "metadata": {},
   "source": [
    "# Data Preprocessing - Sentiment Analysis - Big Richard Club"
   ]
  },
  {
   "cell_type": "markdown",
   "metadata": {},
   "source": [
    "### Imports"
   ]
  },
  {
   "cell_type": "code",
   "execution_count": null,
   "metadata": {
    "id": "xqzxNN53FwEQ"
   },
   "outputs": [],
   "source": [
    "import pandas as pd\n",
    "import numpy as np\n",
    "import re \n",
    "import nltk \n",
    "from nltk.corpus import stopwords\n",
    "from sklearn.pipeline import Pipeline\n",
    "from sklearn.feature_extraction.text import CountVectorizer, TfidfVectorizer\n",
    "from sklearn.linear_model import LogisticRegression\n",
    "from sklearn.model_selection import train_test_split, cross_val_score, KFold\n",
    "from tensorflow.keras.preprocessing.text import Tokenizer\n",
    "from tensorflow.keras.preprocessing.sequence import pad_sequences\n",
    "import tensorflow as tf\n",
    "import collections\n",
    "\n",
    "from io import StringIO\n",
    "from sklearn.feature_extraction.text import TfidfVectorizer\n",
    "from sklearn.feature_selection import chi2\n",
    "from IPython.display import display\n",
    "from sklearn.model_selection import train_test_split\n",
    "from sklearn.feature_extraction.text import TfidfTransformer\n",
    "from sklearn.naive_bayes import MultinomialNB\n",
    "from sklearn.linear_model import LogisticRegression\n",
    "from sklearn.ensemble import RandomForestClassifier\n",
    "from sklearn.svm import LinearSVC\n",
    "from sklearn.model_selection import cross_val_score\n",
    "from sklearn.metrics import confusion_matrix\n",
    "from sklearn import metrics\n",
    "\n",
    "from sklearn.decomposition import PCA, TruncatedSVD\n",
    "from sklearn.metrics import classification_report,confusion_matrix\n",
    "import matplotlib.pyplot as plt\n",
    "import seaborn as sns\n",
    "import matplotlib.patches as mpatches\n",
    "\n",
    "plt.style.use('ggplot')\n",
    "%matplotlib inline\n",
    "pd.options.mode.chained_assignment = None  # default='warn'"
   ]
  },
  {
   "cell_type": "markdown",
   "metadata": {},
   "source": [
    "## I. Import Data"
   ]
  },
  {
   "cell_type": "code",
   "execution_count": null,
   "metadata": {
    "id": "Talu88EbFxXR"
   },
   "outputs": [],
   "source": [
    "df_train = pd.read_csv('data/Corona_NLP_train.csv' , encoding = 'latin_1')\n",
    "df_val = pd.read_csv('data/Corona_NLP_test.csv' , encoding = 'latin_1')"
   ]
  },
  {
   "cell_type": "code",
   "execution_count": null,
   "metadata": {
    "colab": {
     "base_uri": "https://localhost:8080/",
     "height": 206
    },
    "id": "vCHnYjFmGjEb",
    "outputId": "2e8fbe90-458b-4b3b-e45c-d794c94137f0"
   },
   "outputs": [],
   "source": [
    "df_train.head()"
   ]
  },
  {
   "cell_type": "code",
   "execution_count": null,
   "metadata": {
    "colab": {
     "base_uri": "https://localhost:8080/",
     "height": 206
    },
    "id": "CVPUJq2QGxPp",
    "outputId": "2866f71a-88d7-469d-a6f3-a01b14999ea0"
   },
   "outputs": [],
   "source": [
    "df_val.head()"
   ]
  },
  {
   "cell_type": "code",
   "execution_count": null,
   "metadata": {
    "id": "S-njnTm_G8wb"
   },
   "outputs": [],
   "source": [
    "training = df_train[['OriginalTweet', 'Sentiment']]\n",
    "validation = df_val[['OriginalTweet', 'Sentiment']]"
   ]
  },
  {
   "cell_type": "markdown",
   "metadata": {},
   "source": [
    "#### Checking for Missing Values "
   ]
  },
  {
   "cell_type": "code",
   "execution_count": null,
   "metadata": {
    "colab": {
     "base_uri": "https://localhost:8080/"
    },
    "id": "5GDYeDJtHBVi",
    "outputId": "cc4ed397-747d-4d47-c4ed-4aa7e97b9af9",
    "scrolled": true
   },
   "outputs": [],
   "source": [
    "training.isnull().sum()"
   ]
  },
  {
   "cell_type": "code",
   "execution_count": null,
   "metadata": {
    "colab": {
     "base_uri": "https://localhost:8080/"
    },
    "id": "rQrFz7GIHEk-",
    "outputId": "86492d94-6be1-4bbb-f1f3-3be6c8c14af2"
   },
   "outputs": [],
   "source": [
    "validation.isnull().sum()"
   ]
  },
  {
   "cell_type": "markdown",
   "metadata": {},
   "source": [
    "## II. Descriptive Statistics"
   ]
  },
  {
   "cell_type": "code",
   "execution_count": null,
   "metadata": {
    "scrolled": true
   },
   "outputs": [],
   "source": [
    "sns.catplot(x = 'Sentiment', kind = 'count', data = training, height = 5, aspect = 2)"
   ]
  },
  {
   "cell_type": "code",
   "execution_count": null,
   "metadata": {
    "colab": {
     "base_uri": "https://localhost:8080/",
     "height": 387
    },
    "id": "pwsk62w3HYHV",
    "outputId": "c70089b5-a706-4696-e533-570d1c6f9644"
   },
   "outputs": [],
   "source": [
    "sns.catplot(x = 'Sentiment', kind = 'count', data = validation, height = 5, aspect = 2)"
   ]
  },
  {
   "cell_type": "markdown",
   "metadata": {},
   "source": [
    "## III. Cleaning the Comments"
   ]
  },
  {
   "cell_type": "code",
   "execution_count": null,
   "metadata": {},
   "outputs": [],
   "source": [
    "training.rename({\"OriginalTweet\": \"text\", \"Sentiment\": \"label\"}, axis=\"columns\", inplace=True)\n",
    "validation.rename({\"OriginalTweet\": \"text\", \"Sentiment\": \"label\"}, axis=\"columns\", inplace=True)"
   ]
  },
  {
   "cell_type": "markdown",
   "metadata": {},
   "source": [
    "#### From 5 classes to 3"
   ]
  },
  {
   "cell_type": "code",
   "execution_count": null,
   "metadata": {
    "colab": {
     "base_uri": "https://localhost:8080/"
    },
    "id": "_8rV6SyZHgGa",
    "outputId": "491a0a48-4ca9-44f6-b5c5-8050e91a1a72"
   },
   "outputs": [],
   "source": [
    "# Data has 5 classes, let's convert them to 3\n",
    "\n",
    "def classes_def(x):\n",
    "    '''\n",
    "    Makes the label variable have 3 classes instead of 5\n",
    "    '''\n",
    "    \n",
    "    if x ==  \"Extremely Positive\":\n",
    "        return \"2\"\n",
    "    elif x == \"Extremely Negative\":\n",
    "        return \"0\"\n",
    "    elif x == \"Negative\":\n",
    "        return \"0\"\n",
    "    elif x ==  \"Positive\":\n",
    "        return \"2\"\n",
    "    else:\n",
    "        return \"1\"\n",
    "\n",
    "training['label'] = training['label'].apply(lambda x:classes_def(x))\n",
    "validation['label'] = validation['label'].apply(lambda x:classes_def(x))\n",
    "\n",
    "training.label.value_counts(normalize= True)"
   ]
  },
  {
   "cell_type": "markdown",
   "metadata": {},
   "source": [
    "#### Remove useless characters"
   ]
  },
  {
   "cell_type": "code",
   "execution_count": null,
   "metadata": {
    "id": "otsMkepLIOMZ",
    "scrolled": true
   },
   "outputs": [],
   "source": [
    "def remove_urls(text):\n",
    "    url_remove = re.compile(r'https?://\\S+|www\\.\\S+')\n",
    "    return url_remove.sub(r'', text)\n",
    "    \n",
    "training[\"text\"] = training['text'].apply(lambda x:remove_urls(x))\n",
    "validation[\"text\"] = validation['text'].apply(lambda x:remove_urls(x))"
   ]
  },
  {
   "cell_type": "code",
   "execution_count": null,
   "metadata": {},
   "outputs": [],
   "source": [
    "def remove_html(text):\n",
    "    html = re.compile(r'<.*?>')\n",
    "    return html.sub(r'',text)\n",
    "\n",
    "training['text'] = training['text'].apply(lambda x:remove_html(x))\n",
    "validation['text'] = validation['text'].apply(lambda x:remove_html(x))"
   ]
  },
  {
   "cell_type": "code",
   "execution_count": null,
   "metadata": {
    "id": "JNTwc7M1IhJU"
   },
   "outputs": [],
   "source": [
    "# Lower Casing\n",
    "\n",
    "def lower(text):\n",
    "    low_text = text.lower()\n",
    "    return low_text\n",
    "\n",
    "training['text'] = training['text'].apply(lambda x:lower(x))\n",
    "validation['text'] = validation['text'].apply(lambda x:lower(x))"
   ]
  },
  {
   "cell_type": "code",
   "execution_count": null,
   "metadata": {},
   "outputs": [],
   "source": [
    "# Remove Numbers\n",
    "\n",
    "def remove_num(text):\n",
    "    remove = re.sub(r'\\d+', '', text)\n",
    "    return remove\n",
    "\n",
    "training['text'] = training['text'].apply(lambda x:remove_num(x))\n",
    "validation['text'] = validation['text'].apply(lambda x:remove_num(x))"
   ]
  },
  {
   "cell_type": "code",
   "execution_count": null,
   "metadata": {
    "colab": {
     "base_uri": "https://localhost:8080/"
    },
    "id": "A0gLS_jgIqkS",
    "outputId": "d62ac536-ad69-4f49-dc74-22d677d6c089"
   },
   "outputs": [],
   "source": [
    "# Remove Punctuation\n",
    "\n",
    "def punct_remove(text):\n",
    "    punct = re.sub(r\"[^\\w\\s\\d]\",\"\", text)\n",
    "    return punct\n",
    "\n",
    "training['text'] = training['text'].apply(lambda x:punct_remove(x))\n",
    "validation['text'] = validation['text'].apply(lambda x:punct_remove(x))"
   ]
  },
  {
   "cell_type": "code",
   "execution_count": null,
   "metadata": {},
   "outputs": [],
   "source": [
    "# Remove Stopwords\n",
    "\n",
    "nltk.download('stopwords')\n",
    "\",\".join(stopwords.words('english'))\n",
    "STOPWORDS = set(stopwords.words('english'))\n",
    "\n",
    "def remove_stopwords(text):\n",
    "    return \" \".join([word for word in str(text).split() if word not in STOPWORDS])\n",
    "\n",
    "training['text'] = training['text'].apply(lambda x:remove_stopwords(x))\n",
    "validation['text'] = validation['text'].apply(lambda x:remove_stopwords(x))"
   ]
  },
  {
   "cell_type": "code",
   "execution_count": null,
   "metadata": {},
   "outputs": [],
   "source": [
    "# Remove Mentions \"@\"\n",
    "\n",
    "def remove_mention(x):\n",
    "    text = re.sub(r'@\\w+','',x)\n",
    "    return text\n",
    "\n",
    "training['text'] = training['text'].apply(lambda x:remove_mention(x))\n",
    "validation['text'] = validation['text'].apply(lambda x:remove_mention(x))"
   ]
  },
  {
   "cell_type": "code",
   "execution_count": null,
   "metadata": {},
   "outputs": [],
   "source": [
    "# Remove Hashtags\n",
    "\n",
    "def remove_hash(x):\n",
    "    text = re.sub(r'#\\w+','',x)\n",
    "    return text\n",
    "\n",
    "training['text'] = training['text'].apply(lambda x:remove_hash(x))\n",
    "validation['text'] = validation['text'].apply(lambda x:remove_hash(x))"
   ]
  },
  {
   "cell_type": "code",
   "execution_count": null,
   "metadata": {
    "id": "XGe36xTcI2xE"
   },
   "outputs": [],
   "source": [
    "#Remove extra white space left while removing stuff\n",
    "\n",
    "def remove_space(text):\n",
    "    space_remove = re.sub(r\"\\s+\",\" \",text).strip()\n",
    "    return space_remove\n",
    "\n",
    "training['text'] = training['text'].apply(lambda x:remove_space(x))\n",
    "validation['text'] = validation['text'].apply(lambda x:remove_space(x))"
   ]
  },
  {
   "cell_type": "code",
   "execution_count": null,
   "metadata": {
    "id": "k5PJRf20JlLD"
   },
   "outputs": [],
   "source": [
    "more_stop_words = ['a', 'and', 'the', 'i', 'me', 'my', 'we', 'ours', 'he', 'his', 'her', 'what', 'am',\n",
    "              'have', 'has', 'had', 'be', 'was', 'been', 'of', 'at', 'for', 'to', 'your', 'is']\n",
    "\n",
    "def remove_more_stopwords(text):\n",
    "    return \" \".join([word for word in str(text).split() if word not in more_stop_words])\n",
    "\n",
    "training['text'] = training['text'].apply(lambda x:remove_more_stopwords(x))\n",
    "validation['text'] = validation['text'].apply(lambda x:remove_more_stopwords(x))"
   ]
  },
  {
   "cell_type": "code",
   "execution_count": null,
   "metadata": {},
   "outputs": [],
   "source": [
    "# Tokenize\n",
    "\n",
    "def tokenize(text):\n",
    "    text = text.split()\n",
    "    return text\n",
    "\n",
    "training['text'] = training['text'].apply(lambda x:tokenize(x))\n",
    "validation['text'] = validation['text'].apply(lambda x:tokenize(x))"
   ]
  },
  {
   "cell_type": "markdown",
   "metadata": {},
   "source": [
    "## IV. Bag of Words Representation"
   ]
  },
  {
   "cell_type": "code",
   "execution_count": null,
   "metadata": {},
   "outputs": [],
   "source": [
    "validation.shape"
   ]
  },
  {
   "cell_type": "code",
   "execution_count": null,
   "metadata": {},
   "outputs": [],
   "source": [
    "x_train = training['text']\n",
    "y_train = training['label']\n",
    "\n",
    "x_val = validation['text']\n",
    "y_val = validation['label']"
   ]
  },
  {
   "cell_type": "code",
   "execution_count": null,
   "metadata": {},
   "outputs": [],
   "source": [
    "y_val_array = np.asarray(y_val.values).astype(\"float\")\n",
    "y_val_array\n",
    "\n",
    "# RUN ONLY ONCE\n",
    "# np.savetxt(\"data/y_val.txt.gz\", y_val_array) # Save into a file / .gz compresses the file"
   ]
  },
  {
   "cell_type": "code",
   "execution_count": null,
   "metadata": {
    "scrolled": true
   },
   "outputs": [],
   "source": [
    "y_train_array = np.asarray(y_train.values).astype(\"float\")\n",
    "y_train_array\n",
    "\n",
    "# RUN ONLY ONCE\n",
    "# np.savetxt(\"data/y_train.txt.gz\", y_train_array) # Save into a file / .gz compresses the file"
   ]
  },
  {
   "cell_type": "markdown",
   "metadata": {},
   "source": [
    "### A) Vocabulary"
   ]
  },
  {
   "cell_type": "code",
   "execution_count": null,
   "metadata": {},
   "outputs": [],
   "source": [
    "vocabulary = collections.Counter()\n",
    "len_x_train = len(x_train)\n",
    "\n",
    "for i in range(len_x_train):\n",
    "    words = x_train[i]    \n",
    "    vocabulary.update(words)\n",
    "\n",
    "# RUN ONLY ONCE\n",
    "    \n",
    "# Save vocabulary in \"lesser_vocabulary.txt\" file\n",
    "#f = open(\"data/lesser_vocabulary.txt\", \"w\", encoding=\"utf-8\")\n",
    "\n",
    "#for word, count in vocabulary.most_common(1000): # 1000 most common words\n",
    "#    print(word, file=f)\n",
    "#f.close()"
   ]
  },
  {
   "cell_type": "code",
   "execution_count": null,
   "metadata": {},
   "outputs": [],
   "source": [
    "def load_vocabulary(filename):\n",
    "    f = open(filename, encoding=\"utf-8\")\n",
    "    text = f.read()\n",
    "    f.close()\n",
    "    words = text.split()\n",
    "    \n",
    "    # Create index for each word\n",
    "    voc = {}\n",
    "    index = 0\n",
    "    for word in words:\n",
    "        voc[word] = index\n",
    "        index += 1\n",
    "    \n",
    "    return voc"
   ]
  },
  {
   "cell_type": "code",
   "execution_count": null,
   "metadata": {},
   "outputs": [],
   "source": [
    "vocabulary = load_vocabulary(\"data/lesser_vocabulary.txt\")\n",
    "list(vocabulary.items())[:5]"
   ]
  },
  {
   "cell_type": "markdown",
   "metadata": {},
   "source": [
    "### B) Comment as a BoW"
   ]
  },
  {
   "cell_type": "markdown",
   "metadata": {},
   "source": [
    "#### Example of a BoW for the 3rd comment"
   ]
  },
  {
   "cell_type": "code",
   "execution_count": null,
   "metadata": {},
   "outputs": [],
   "source": [
    "x_train[2]"
   ]
  },
  {
   "cell_type": "code",
   "execution_count": null,
   "metadata": {},
   "outputs": [],
   "source": [
    "words = x_train[2]\n",
    "    \n",
    "bow = np.zeros(len(vocabulary))\n",
    "for word in words:\n",
    "    if word in vocabulary:\n",
    "        index = vocabulary[word]\n",
    "        bow[index] += 1"
   ]
  },
  {
   "cell_type": "code",
   "execution_count": null,
   "metadata": {},
   "outputs": [],
   "source": [
    "def read_comment_bow(comment, voc):\n",
    "    words = x_train[comment]\n",
    "    \n",
    "    # Bag of Words\n",
    "    bow = np.zeros(len(voc))\n",
    "    for word in words:\n",
    "        if word in voc:\n",
    "            index = voc[word]\n",
    "            bow[index] += 1\n",
    "\n",
    "    return bow"
   ]
  },
  {
   "cell_type": "markdown",
   "metadata": {},
   "source": [
    "#### Training Data"
   ]
  },
  {
   "cell_type": "code",
   "execution_count": null,
   "metadata": {},
   "outputs": [],
   "source": [
    "comments = []\n",
    "\n",
    "for i in range(len(x_train)):\n",
    "    bow = read_comment_bow(comment=i, voc=vocabulary)\n",
    "    \n",
    "    comments.append(bow)\n",
    "\n",
    "x_train_bow = np.stack(comments)\n",
    "\n",
    "# RUN ONLY ONCE\n",
    "# np.savetxt(\"data/lesser_x_train_bow.txt.gz\", x_train_bow) # Save into a file / .gz compresses the file"
   ]
  },
  {
   "cell_type": "markdown",
   "metadata": {},
   "source": [
    "#### Testing Data"
   ]
  },
  {
   "cell_type": "code",
   "execution_count": null,
   "metadata": {},
   "outputs": [],
   "source": [
    "val_comments = []\n",
    "\n",
    "for i in range(len(x_val)):\n",
    "    val_bow = read_comment_bow(comment=i, voc=vocabulary)\n",
    "    \n",
    "    val_comments.append(val_bow)\n",
    "\n",
    "x_val_bow = np.stack(val_comments)\n",
    "\n",
    "# RUN ONLY ONCE\n",
    "# np.savetxt(\"data/lesser_x_val_bow.txt.gz\", x_val_bow) # Save into a file / .gz compresses the file"
   ]
  }
 ],
 "metadata": {
  "colab": {
   "name": "Draft ML2.ipynb",
   "provenance": []
  },
  "kernelspec": {
   "display_name": "Python 3 (ipykernel)",
   "language": "python",
   "name": "python3"
  },
  "language_info": {
   "codemirror_mode": {
    "name": "ipython",
    "version": 3
   },
   "file_extension": ".py",
   "mimetype": "text/x-python",
   "name": "python",
   "nbconvert_exporter": "python",
   "pygments_lexer": "ipython3",
   "version": "3.9.7"
  }
 },
 "nbformat": 4,
 "nbformat_minor": 1
}
