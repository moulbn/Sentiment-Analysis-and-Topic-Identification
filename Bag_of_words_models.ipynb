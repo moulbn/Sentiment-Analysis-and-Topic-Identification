{
 "cells": [
  {
   "cell_type": "markdown",
   "id": "2741d686",
   "metadata": {},
   "source": [
    "# MODELS BABYYYYY - Sentiment Analysis - Big Richard Club"
   ]
  },
  {
   "cell_type": "code",
   "execution_count": 1,
   "id": "fc7c8b93",
   "metadata": {},
   "outputs": [],
   "source": [
    "import pandas as pd\n",
    "import numpy as np\n",
    "import re \n",
    "import nltk \n",
    "from nltk.corpus import stopwords\n",
    "from sklearn.pipeline import Pipeline\n",
    "from sklearn.feature_extraction.text import CountVectorizer, TfidfVectorizer\n",
    "from sklearn.linear_model import LogisticRegression\n",
    "from sklearn.model_selection import train_test_split, cross_val_score, KFold\n",
    "from tensorflow.keras.preprocessing.text import Tokenizer\n",
    "from tensorflow.keras.preprocessing.sequence import pad_sequences\n",
    "import tensorflow as tf\n",
    "import collections\n",
    "\n",
    "from io import StringIO\n",
    "from sklearn.feature_extraction.text import TfidfVectorizer\n",
    "from sklearn.feature_selection import chi2\n",
    "from IPython.display import display\n",
    "from sklearn.model_selection import train_test_split\n",
    "from sklearn.feature_extraction.text import TfidfTransformer\n",
    "from sklearn.naive_bayes import MultinomialNB\n",
    "from sklearn.linear_model import LogisticRegression\n",
    "from sklearn.ensemble import RandomForestClassifier\n",
    "from sklearn.svm import LinearSVC\n",
    "from sklearn.model_selection import cross_val_score\n",
    "from sklearn.metrics import confusion_matrix\n",
    "from sklearn import metrics\n",
    "\n",
    "from sklearn.decomposition import PCA, TruncatedSVD\n",
    "from sklearn.metrics import classification_report,confusion_matrix\n",
    "import matplotlib.pyplot as plt\n",
    "import seaborn as sns\n",
    "import matplotlib.patches as mpatches\n",
    "\n",
    "plt.style.use('ggplot')\n",
    "%matplotlib inline\n",
    "pd.options.mode.chained_assignment = None  # default='warn'"
   ]
  },
  {
   "cell_type": "markdown",
   "id": "bb644f12",
   "metadata": {},
   "source": [
    "## I. Import Data"
   ]
  },
  {
   "cell_type": "code",
   "execution_count": 2,
   "id": "338456fa",
   "metadata": {},
   "outputs": [
    {
     "name": "stdout",
     "output_type": "stream",
     "text": [
      "X_train shape : (41157, 1000) \n",
      " Y_train shape : (41157,)\n"
     ]
    }
   ],
   "source": [
    "x_train_bow = np.loadtxt(\"data/lesser_x_train_bow.txt.gz\")\n",
    "y_train = np.loadtxt(\"data/y_train.txt.gz\")\n",
    "\n",
    "print(f\"X_train shape : {x_train_bow.shape} \\n Y_train shape : {y_train.shape}\")"
   ]
  },
  {
   "cell_type": "code",
   "execution_count": 3,
   "id": "e7bdf564",
   "metadata": {
    "scrolled": false
   },
   "outputs": [
    {
     "name": "stdout",
     "output_type": "stream",
     "text": [
      "x_val shape : (3798, 1000) \n",
      " y_val shape : (3798,)\n"
     ]
    }
   ],
   "source": [
    "x_val_bow = np.loadtxt(\"data/lesser_x_val_bow.txt.gz\")\n",
    "y_val = np.loadtxt(\"data/y_val.txt.gz\")\n",
    "\n",
    "print(f\"x_val shape : {x_val_bow.shape} \\n y_val shape : {y_val.shape}\")"
   ]
  },
  {
   "cell_type": "markdown",
   "id": "1a506d47",
   "metadata": {},
   "source": [
    "# Linear SVC"
   ]
  },
  {
   "cell_type": "code",
   "execution_count": 7,
   "id": "505381e5",
   "metadata": {},
   "outputs": [],
   "source": [
    "import matplotlib.pyplot as plt\n",
    "from sklearn.linear_model import LogisticRegression\n",
    "from sklearn import svm"
   ]
  },
  {
   "cell_type": "code",
   "execution_count": 8,
   "id": "fde5fe6d",
   "metadata": {},
   "outputs": [],
   "source": [
    "linear_svm = svm.LinearSVC(max_iter=10000).fit(x_train_bow, y_train)"
   ]
  },
  {
   "cell_type": "code",
   "execution_count": 9,
   "id": "e496d651",
   "metadata": {},
   "outputs": [
    {
     "name": "stdout",
     "output_type": "stream",
     "text": [
      "Linear SVM Training Accuracy : 75.518 %\n"
     ]
    }
   ],
   "source": [
    "svm_training_accuracy = round(\n",
    "    linear_svm.score(x_train_bow, y_train),\n",
    "    5\n",
    ")\n",
    "\n",
    "print(f\"Linear SVM Training Accuracy : {svm_training_accuracy * 100} %\")"
   ]
  },
  {
   "cell_type": "code",
   "execution_count": 10,
   "id": "753dd438",
   "metadata": {},
   "outputs": [
    {
     "name": "stdout",
     "output_type": "stream",
     "text": [
      "Linear SVM validation Accuracy : 36.598000000000006 %\n"
     ]
    }
   ],
   "source": [
    "svm_validation_accuracy = round(\n",
    "    linear_svm.score(x_val_bow, y_val),\n",
    "    5\n",
    ")\n",
    "\n",
    "print(f\"Linear SVM validation Accuracy : {svm_validation_accuracy * 100} %\")"
   ]
  },
  {
   "cell_type": "markdown",
   "id": "d973451e",
   "metadata": {},
   "source": [
    "# SGD "
   ]
  },
  {
   "cell_type": "code",
   "execution_count": null,
   "id": "a20a91cc",
   "metadata": {},
   "outputs": [],
   "source": [
    "from sklearn.linear_model import SGDClassifier"
   ]
  },
  {
   "cell_type": "code",
   "execution_count": null,
   "id": "ca3e6208",
   "metadata": {},
   "outputs": [],
   "source": [
    "sgd = SGDClassifier(\n",
    "    early_stopping=False,\n",
    "    penalty=\"l2\",\n",
    "    loss=\"hinge\",\n",
    "    max_iter=10000\n",
    ").fit(x_train_bow, y_train)"
   ]
  },
  {
   "cell_type": "code",
   "execution_count": null,
   "id": "30b29878",
   "metadata": {},
   "outputs": [],
   "source": [
    "sgd_training_accuracy = round(\n",
    "    sgd.score(x_train_bow, y_train),\n",
    "    5\n",
    ")\n",
    "\n",
    "print(f\"SGD Training Accuracy : {sgd_training_accuracy * 100} %\")"
   ]
  },
  {
   "cell_type": "code",
   "execution_count": null,
   "id": "f01781c4",
   "metadata": {},
   "outputs": [],
   "source": [
    "sgd_validation_accuracy = round(\n",
    "    sgd.score(x_val_bow, y_val),\n",
    "    5\n",
    ")\n",
    "\n",
    "print(f\"SGD validation Accuracy : {sgd_validation_accuracy * 100} %\")"
   ]
  },
  {
   "cell_type": "markdown",
   "id": "1630d2a5",
   "metadata": {},
   "source": [
    "# SVC"
   ]
  },
  {
   "cell_type": "code",
   "execution_count": 11,
   "id": "67def17f",
   "metadata": {},
   "outputs": [
    {
     "data": {
      "text/plain": [
       "(41157, 1000)"
      ]
     },
     "execution_count": 11,
     "metadata": {},
     "output_type": "execute_result"
    }
   ],
   "source": [
    "x_train_bow.shape"
   ]
  },
  {
   "cell_type": "code",
   "execution_count": 16,
   "id": "b63a65d8",
   "metadata": {},
   "outputs": [
    {
     "name": "stderr",
     "output_type": "stream",
     "text": [
      "E:\\miniconda3\\envs\\math4ml\\lib\\site-packages\\sklearn\\svm\\_base.py:255: ConvergenceWarning: Solver terminated early (max_iter=1000).  Consider pre-processing your data with StandardScaler or MinMaxScaler.\n",
      "  warnings.warn('Solver terminated early (max_iter=%i).'\n"
     ]
    }
   ],
   "source": [
    "nu_svc = svm.NuSVC(\n",
    "    max_iter=1000\n",
    ").fit(x_train_bow[:10000], y_train[:10000])"
   ]
  },
  {
   "cell_type": "code",
   "execution_count": 17,
   "id": "8d1b56af",
   "metadata": {},
   "outputs": [
    {
     "name": "stdout",
     "output_type": "stream",
     "text": [
      "Nu SVC Training Accuracy : 89.99000000000001 %\n"
     ]
    }
   ],
   "source": [
    "nu_svc_training_accuracy = round(\n",
    "    nu_svc.score(x_train_bow[:10000], y_train[:10000]),\n",
    "    5\n",
    ")\n",
    "\n",
    "print(f\"Nu SVC Training Accuracy : {nu_svc_training_accuracy * 100} %\")"
   ]
  },
  {
   "cell_type": "code",
   "execution_count": 18,
   "id": "cc85e5c9",
   "metadata": {},
   "outputs": [
    {
     "name": "stdout",
     "output_type": "stream",
     "text": [
      "Nu SVC validation Accuracy : 36.94 %\n"
     ]
    }
   ],
   "source": [
    "nu_svc_validation_accuracy = round(\n",
    "    nu_svc.score(x_val_bow[:10000], y_val[:10000]),\n",
    "    5\n",
    ")\n",
    "\n",
    "print(f\"Nu SVC validation Accuracy : {nu_svc_validation_accuracy * 100} %\")"
   ]
  },
  {
   "cell_type": "markdown",
   "id": "30240dbf",
   "metadata": {},
   "source": [
    "## Logistic Regression"
   ]
  },
  {
   "cell_type": "code",
   "execution_count": 37,
   "id": "c71b6e96",
   "metadata": {},
   "outputs": [
    {
     "name": "stderr",
     "output_type": "stream",
     "text": [
      "E:\\miniconda3\\envs\\math4ml\\lib\\site-packages\\sklearn\\linear_model\\_logistic.py:763: ConvergenceWarning: lbfgs failed to converge (status=1):\n",
      "STOP: TOTAL NO. of ITERATIONS REACHED LIMIT.\n",
      "\n",
      "Increase the number of iterations (max_iter) or scale the data as shown in:\n",
      "    https://scikit-learn.org/stable/modules/preprocessing.html\n",
      "Please also refer to the documentation for alternative solver options:\n",
      "    https://scikit-learn.org/stable/modules/linear_model.html#logistic-regression\n",
      "  n_iter_i = _check_optimize_result(\n"
     ]
    }
   ],
   "source": [
    "# solver{‘newton-cg’, ‘lbfgs’, ‘liblinear’, ‘sag’, ‘saga’}\n",
    "\n",
    "log_reg = LogisticRegression(\n",
    "    penalty=\"l2\",\n",
    "    solver=\"lbfgs\"\n",
    ").fit(x_train_bow, y_train)"
   ]
  },
  {
   "cell_type": "code",
   "execution_count": 38,
   "id": "e3287fca",
   "metadata": {},
   "outputs": [
    {
     "name": "stdout",
     "output_type": "stream",
     "text": [
      "Logistic Regression Training Accuracy : 75.58399999999999 %\n"
     ]
    }
   ],
   "source": [
    "log_reg_training_accuracy = round(\n",
    "    log_reg.score(x_train_bow, y_train),\n",
    "    5\n",
    ")\n",
    "\n",
    "print(f\"Logistic Regression Training Accuracy : {log_reg_training_accuracy * 100} %\")"
   ]
  },
  {
   "cell_type": "code",
   "execution_count": 39,
   "id": "0d9db880",
   "metadata": {},
   "outputs": [
    {
     "name": "stdout",
     "output_type": "stream",
     "text": [
      "Logistic Regression validation Accuracy : 36.414 %\n"
     ]
    }
   ],
   "source": [
    "log_reg_validation_accuracy = round(\n",
    "    log_reg.score(x_val_bow, y_val),\n",
    "    5\n",
    ")\n",
    "\n",
    "print(f\"Logistic Regression validation Accuracy : {log_reg_validation_accuracy * 100} %\")"
   ]
  }
 ],
 "metadata": {
  "kernelspec": {
   "display_name": "Python 3 (ipykernel)",
   "language": "python",
   "name": "python3"
  },
  "language_info": {
   "codemirror_mode": {
    "name": "ipython",
    "version": 3
   },
   "file_extension": ".py",
   "mimetype": "text/x-python",
   "name": "python",
   "nbconvert_exporter": "python",
   "pygments_lexer": "ipython3",
   "version": "3.9.7"
  }
 },
 "nbformat": 4,
 "nbformat_minor": 5
}
