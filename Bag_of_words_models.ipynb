{
 "cells": [
  {
   "cell_type": "markdown",
   "id": "2741d686",
   "metadata": {},
   "source": [
    "# Bag of Words - Models - Sentiment Analysis - Big Richard Club"
   ]
  },
  {
   "cell_type": "markdown",
   "id": "c2bfdbd4",
   "metadata": {},
   "source": [
    "#### Imports"
   ]
  },
  {
   "cell_type": "code",
   "execution_count": 1,
   "id": "fc7c8b93",
   "metadata": {},
   "outputs": [],
   "source": [
    "import pandas as pd\n",
    "import numpy as np\n",
    "\n",
    "from sklearn.linear_model import LogisticRegression\n",
    "from sklearn.naive_bayes import MultinomialNB\n",
    "from sklearn import svm\n",
    "from sklearn.linear_model import SGDClassifier\n",
    "\n",
    "pd.options.mode.chained_assignment = None  # default='warn'"
   ]
  },
  {
   "cell_type": "markdown",
   "id": "bb644f12",
   "metadata": {},
   "source": [
    "# I. Import Data"
   ]
  },
  {
   "cell_type": "code",
   "execution_count": 3,
   "id": "338456fa",
   "metadata": {},
   "outputs": [
    {
     "name": "stdout",
     "output_type": "stream",
     "text": [
      "x_train shape : (41157, 1000) \n",
      "y_train shape : (41157,)\n"
     ]
    }
   ],
   "source": [
    "x_train_bow = np.loadtxt(\"data/lesser_x_train_bow.txt.gz\")\n",
    "y_train = np.loadtxt(\"data/y_train.txt.gz\")\n",
    "\n",
    "print(f\"x_train shape : {x_train_bow.shape} \\ny_train shape : {y_train.shape}\")"
   ]
  },
  {
   "cell_type": "code",
   "execution_count": 4,
   "id": "e7bdf564",
   "metadata": {
    "scrolled": false
   },
   "outputs": [
    {
     "name": "stdout",
     "output_type": "stream",
     "text": [
      "x_val shape : (3798, 1000) \n",
      "y_val shape : (3798,)\n"
     ]
    }
   ],
   "source": [
    "x_val_bow = np.loadtxt(\"data/lesser_x_val_bow.txt.gz\")\n",
    "y_val = np.loadtxt(\"data/y_val.txt.gz\")\n",
    "\n",
    "print(f\"x_val shape : {x_val_bow.shape} \\ny_val shape : {y_val.shape}\")"
   ]
  },
  {
   "cell_type": "markdown",
   "id": "7032fdd9",
   "metadata": {},
   "source": [
    "# II. Models "
   ]
  },
  {
   "cell_type": "markdown",
   "id": "1a506d47",
   "metadata": {},
   "source": [
    "## A) Linear Support Vector Classifier "
   ]
  },
  {
   "cell_type": "code",
   "execution_count": 5,
   "id": "fde5fe6d",
   "metadata": {},
   "outputs": [],
   "source": [
    "linear_svm = svm.LinearSVC(max_iter=10000).fit(x_train_bow, y_train)"
   ]
  },
  {
   "cell_type": "code",
   "execution_count": 6,
   "id": "e496d651",
   "metadata": {},
   "outputs": [
    {
     "name": "stdout",
     "output_type": "stream",
     "text": [
      "Linear SVM Training Accuracy : 75.518 %\n"
     ]
    }
   ],
   "source": [
    "svm_training_accuracy = round(\n",
    "    linear_svm.score(x_train_bow, y_train),\n",
    "    5\n",
    ")\n",
    "\n",
    "print(f\"Linear SVM Training Accuracy : {svm_training_accuracy * 100} %\")"
   ]
  },
  {
   "cell_type": "code",
   "execution_count": 7,
   "id": "753dd438",
   "metadata": {},
   "outputs": [
    {
     "name": "stdout",
     "output_type": "stream",
     "text": [
      "Linear SVM validation Accuracy : 18.668000000000003 %\n"
     ]
    }
   ],
   "source": [
    "svm_validation_accuracy = round(\n",
    "    linear_svm.score(x_val_bow, y_val),\n",
    "    5\n",
    ")\n",
    "\n",
    "print(f\"Linear SVM validation Accuracy : {svm_validation_accuracy * 100} %\")"
   ]
  },
  {
   "cell_type": "markdown",
   "id": "d973451e",
   "metadata": {},
   "source": [
    "## B) Stochastic Gradient Descent on Linear Models "
   ]
  },
  {
   "cell_type": "code",
   "execution_count": 8,
   "id": "ca3e6208",
   "metadata": {},
   "outputs": [],
   "source": [
    "sgd = SGDClassifier(\n",
    "    early_stopping=False,\n",
    "    penalty=\"l2\",\n",
    "    loss=\"hinge\",\n",
    "    max_iter=10000\n",
    ").fit(x_train_bow, y_train)"
   ]
  },
  {
   "cell_type": "code",
   "execution_count": 9,
   "id": "30b29878",
   "metadata": {},
   "outputs": [
    {
     "name": "stdout",
     "output_type": "stream",
     "text": [
      "SGD Training Accuracy : 75.292 %\n"
     ]
    }
   ],
   "source": [
    "sgd_training_accuracy = round(\n",
    "    sgd.score(x_train_bow, y_train),\n",
    "    5\n",
    ")\n",
    "\n",
    "print(f\"SGD Training Accuracy : {sgd_training_accuracy * 100} %\")"
   ]
  },
  {
   "cell_type": "code",
   "execution_count": 10,
   "id": "f01781c4",
   "metadata": {},
   "outputs": [
    {
     "name": "stdout",
     "output_type": "stream",
     "text": [
      "SGD validation Accuracy : 18.246000000000002 %\n"
     ]
    }
   ],
   "source": [
    "sgd_validation_accuracy = round(\n",
    "    sgd.score(x_val_bow, y_val),\n",
    "    5\n",
    ")\n",
    "\n",
    "print(f\"SGD validation Accuracy : {sgd_validation_accuracy * 100} %\")"
   ]
  },
  {
   "cell_type": "markdown",
   "id": "1630d2a5",
   "metadata": {},
   "source": [
    "## C) Support Vector Classifier"
   ]
  },
  {
   "cell_type": "code",
   "execution_count": 11,
   "id": "b63a65d8",
   "metadata": {},
   "outputs": [
    {
     "name": "stderr",
     "output_type": "stream",
     "text": [
      "E:\\miniconda3\\envs\\math4ml\\lib\\site-packages\\sklearn\\svm\\_base.py:255: ConvergenceWarning: Solver terminated early (max_iter=1000).  Consider pre-processing your data with StandardScaler or MinMaxScaler.\n",
      "  warnings.warn('Solver terminated early (max_iter=%i).'\n"
     ]
    }
   ],
   "source": [
    "nu_svc = svm.NuSVC(\n",
    "    max_iter=1000\n",
    ").fit(x_train_bow[:10000], y_train[:10000])"
   ]
  },
  {
   "cell_type": "code",
   "execution_count": 12,
   "id": "8d1b56af",
   "metadata": {},
   "outputs": [
    {
     "name": "stdout",
     "output_type": "stream",
     "text": [
      "Nu SVC Training Accuracy : 89.99000000000001 %\n"
     ]
    }
   ],
   "source": [
    "nu_svc_training_accuracy = round(\n",
    "    nu_svc.score(x_train_bow[:10000], y_train[:10000]),\n",
    "    5\n",
    ")\n",
    "\n",
    "print(f\"Nu SVC Training Accuracy : {nu_svc_training_accuracy * 100} %\")"
   ]
  },
  {
   "cell_type": "code",
   "execution_count": 13,
   "id": "cc85e5c9",
   "metadata": {},
   "outputs": [
    {
     "name": "stdout",
     "output_type": "stream",
     "text": [
      "Nu SVC validation Accuracy : 39.757999999999996 %\n"
     ]
    }
   ],
   "source": [
    "nu_svc_validation_accuracy = round(\n",
    "    nu_svc.score(x_val_bow[:10000], y_val[:10000]),\n",
    "    5\n",
    ")\n",
    "\n",
    "print(f\"Nu SVC validation Accuracy : {nu_svc_validation_accuracy * 100} %\")"
   ]
  },
  {
   "cell_type": "markdown",
   "id": "30240dbf",
   "metadata": {},
   "source": [
    "## D) Logistic Regression"
   ]
  },
  {
   "cell_type": "code",
   "execution_count": 14,
   "id": "c71b6e96",
   "metadata": {},
   "outputs": [
    {
     "name": "stderr",
     "output_type": "stream",
     "text": [
      "E:\\miniconda3\\envs\\math4ml\\lib\\site-packages\\sklearn\\linear_model\\_logistic.py:763: ConvergenceWarning: lbfgs failed to converge (status=1):\n",
      "STOP: TOTAL NO. of ITERATIONS REACHED LIMIT.\n",
      "\n",
      "Increase the number of iterations (max_iter) or scale the data as shown in:\n",
      "    https://scikit-learn.org/stable/modules/preprocessing.html\n",
      "Please also refer to the documentation for alternative solver options:\n",
      "    https://scikit-learn.org/stable/modules/linear_model.html#logistic-regression\n",
      "  n_iter_i = _check_optimize_result(\n"
     ]
    }
   ],
   "source": [
    "log_reg = LogisticRegression(\n",
    "    penalty=\"l2\",\n",
    "    solver=\"lbfgs\"\n",
    ").fit(x_train_bow, y_train)"
   ]
  },
  {
   "cell_type": "code",
   "execution_count": 15,
   "id": "e3287fca",
   "metadata": {},
   "outputs": [
    {
     "name": "stdout",
     "output_type": "stream",
     "text": [
      "Logistic Regression Training Accuracy : 75.58399999999999 %\n"
     ]
    }
   ],
   "source": [
    "log_reg_training_accuracy = round(\n",
    "    log_reg.score(x_train_bow, y_train),\n",
    "    5\n",
    ")\n",
    "\n",
    "print(f\"Logistic Regression Training Accuracy : {log_reg_training_accuracy * 100} %\")"
   ]
  },
  {
   "cell_type": "code",
   "execution_count": 16,
   "id": "0d9db880",
   "metadata": {},
   "outputs": [
    {
     "name": "stdout",
     "output_type": "stream",
     "text": [
      "Logistic Regression validation Accuracy : 36.414 %\n"
     ]
    }
   ],
   "source": [
    "log_reg_validation_accuracy = round(\n",
    "    log_reg.score(x_val_bow, y_val),\n",
    "    5\n",
    ")\n",
    "\n",
    "print(f\"Logistic Regression validation Accuracy : {log_reg_validation_accuracy * 100} %\")"
   ]
  },
  {
   "cell_type": "markdown",
   "id": "c420f1ef",
   "metadata": {},
   "source": [
    "## E) Multinomial Naive Bayes "
   ]
  },
  {
   "cell_type": "code",
   "execution_count": 14,
   "id": "24812690",
   "metadata": {},
   "outputs": [],
   "source": [
    "multinom_nb = MultinomialNB(\n",
    "    alpha=1,\n",
    "    fit_prior=False\n",
    ").fit(x_train_bow, y_train)"
   ]
  },
  {
   "cell_type": "code",
   "execution_count": 15,
   "id": "827fbe46",
   "metadata": {},
   "outputs": [
    {
     "name": "stdout",
     "output_type": "stream",
     "text": [
      "Multinomial Naive Bayes Training Accuracy : 65.994 %\n"
     ]
    }
   ],
   "source": [
    "multinom_nb_training_accuracy = round(\n",
    "    multinom_nb.score(x_train_bow, y_train),\n",
    "    5\n",
    ")\n",
    "\n",
    "print(f\"Multinomial Naive Bayes Training Accuracy : {multinom_nb_training_accuracy * 100} %\")"
   ]
  },
  {
   "cell_type": "code",
   "execution_count": 16,
   "id": "30155796",
   "metadata": {},
   "outputs": [
    {
     "name": "stdout",
     "output_type": "stream",
     "text": [
      "Multinomial Naive Bayes validation Accuracy : 34.887 %\n"
     ]
    }
   ],
   "source": [
    "multinom_nb_validation_accuracy = round(\n",
    "    multinom_nb.score(x_val_bow, y_val),\n",
    "    5\n",
    ")\n",
    "\n",
    "print(f\"Multinomial Naive Bayes validation Accuracy : {multinom_nb_validation_accuracy * 100} %\")"
   ]
  }
 ],
 "metadata": {
  "kernelspec": {
   "display_name": "Python 3 (ipykernel)",
   "language": "python",
   "name": "python3"
  },
  "language_info": {
   "codemirror_mode": {
    "name": "ipython",
    "version": 3
   },
   "file_extension": ".py",
   "mimetype": "text/x-python",
   "name": "python",
   "nbconvert_exporter": "python",
   "pygments_lexer": "ipython3",
   "version": "3.9.7"
  }
 },
 "nbformat": 4,
 "nbformat_minor": 5
}
