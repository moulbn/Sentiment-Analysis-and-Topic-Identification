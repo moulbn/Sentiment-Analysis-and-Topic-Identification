{
 "cells": [
  {
   "cell_type": "code",
   "execution_count": 10,
   "id": "0a2057dc",
   "metadata": {},
   "outputs": [],
   "source": [
    "import pandas as pd\n",
    "import numpy as np\n",
    "\n",
    "from sklearn.linear_model import SGDClassifier\n",
    "from sklearn.naive_bayes import MultinomialNB\n",
    "from sklearn.linear_model import LogisticRegression\n",
    "from sklearn import svm\n",
    "\n",
    "pd.options.mode.chained_assignment = None  # default='warn'"
   ]
  },
  {
   "cell_type": "markdown",
   "id": "4fd1b65b",
   "metadata": {},
   "source": [
    "# I. Import Data"
   ]
  },
  {
   "cell_type": "code",
   "execution_count": 11,
   "id": "5312e1f8",
   "metadata": {},
   "outputs": [
    {
     "data": {
      "text/plain": [
       "(41157,)"
      ]
     },
     "execution_count": 11,
     "metadata": {},
     "output_type": "execute_result"
    }
   ],
   "source": [
    "y_train = np.loadtxt(\"data/y_train.txt.gz\")\n",
    "y_train.shape"
   ]
  },
  {
   "cell_type": "code",
   "execution_count": 12,
   "id": "9b804cf5",
   "metadata": {},
   "outputs": [
    {
     "data": {
      "text/plain": [
       "(3798,)"
      ]
     },
     "execution_count": 12,
     "metadata": {},
     "output_type": "execute_result"
    }
   ],
   "source": [
    "y_val = np.loadtxt(\"data/y_val.txt.gz\")\n",
    "y_val.shape"
   ]
  },
  {
   "cell_type": "code",
   "execution_count": 13,
   "id": "be5719ad",
   "metadata": {},
   "outputs": [
    {
     "data": {
      "text/plain": [
       "(41157, 384)"
      ]
     },
     "execution_count": 13,
     "metadata": {},
     "output_type": "execute_result"
    }
   ],
   "source": [
    "embeddings = np.loadtxt(\"data/new_training_embeddings.txt.gz\")\n",
    "embeddings.shape"
   ]
  },
  {
   "cell_type": "code",
   "execution_count": 14,
   "id": "b0d59b21",
   "metadata": {
    "scrolled": true
   },
   "outputs": [
    {
     "data": {
      "text/plain": [
       "(3798, 384)"
      ]
     },
     "execution_count": 14,
     "metadata": {},
     "output_type": "execute_result"
    }
   ],
   "source": [
    "validation_embeddings = np.loadtxt(\"data/validation_embeddings.txt.gz\")\n",
    "validation_embeddings.shape"
   ]
  },
  {
   "cell_type": "markdown",
   "id": "5744302f",
   "metadata": {},
   "source": [
    "# II. Models"
   ]
  },
  {
   "cell_type": "markdown",
   "id": "819f2afa",
   "metadata": {},
   "source": [
    "## A) Logistic Regression"
   ]
  },
  {
   "cell_type": "code",
   "execution_count": 15,
   "id": "cceddeff",
   "metadata": {},
   "outputs": [],
   "source": [
    "log_reg = LogisticRegression(\n",
    "    penalty=\"l2\",\n",
    "    solver=\"lbfgs\",\n",
    "    max_iter=10000\n",
    ").fit(embeddings, y_train)"
   ]
  },
  {
   "cell_type": "code",
   "execution_count": 16,
   "id": "b9e43e99",
   "metadata": {},
   "outputs": [
    {
     "name": "stdout",
     "output_type": "stream",
     "text": [
      "Logistic Regression Training Accuracy : 69.123 %\n"
     ]
    }
   ],
   "source": [
    "log_reg_training_accuracy = round(\n",
    "    log_reg.score(embeddings, y_train),\n",
    "    5\n",
    ")\n",
    "\n",
    "print(f\"Logistic Regression Training Accuracy : {log_reg_training_accuracy * 100} %\")"
   ]
  },
  {
   "cell_type": "code",
   "execution_count": 17,
   "id": "0fbfb750",
   "metadata": {},
   "outputs": [
    {
     "name": "stdout",
     "output_type": "stream",
     "text": [
      "Logistic Regression validation Accuracy : 67.746 %\n"
     ]
    }
   ],
   "source": [
    "log_reg_validation_accuracy = round(\n",
    "    log_reg.score(validation_embeddings, y_val),\n",
    "    5\n",
    ")\n",
    "\n",
    "print(f\"Logistic Regression validation Accuracy : {log_reg_validation_accuracy * 100} %\")"
   ]
  },
  {
   "cell_type": "markdown",
   "id": "0d3c34b9",
   "metadata": {},
   "source": [
    "## B) SGD"
   ]
  },
  {
   "cell_type": "code",
   "execution_count": 18,
   "id": "dca1a5c8",
   "metadata": {},
   "outputs": [],
   "source": [
    "sgd = SGDClassifier(\n",
    "    early_stopping=False,\n",
    "    penalty=\"l2\",\n",
    "    loss=\"hinge\",\n",
    "    max_iter=10000\n",
    ").fit(embeddings, y_train)"
   ]
  },
  {
   "cell_type": "code",
   "execution_count": 19,
   "id": "d7e89b52",
   "metadata": {},
   "outputs": [
    {
     "name": "stdout",
     "output_type": "stream",
     "text": [
      "SGD Training Accuracy : 66.514 %\n"
     ]
    }
   ],
   "source": [
    "sgd_training_accuracy = round(\n",
    "    sgd.score(embeddings, y_train),\n",
    "    5\n",
    ")\n",
    "\n",
    "print(f\"SGD Training Accuracy : {sgd_training_accuracy * 100} %\")"
   ]
  },
  {
   "cell_type": "code",
   "execution_count": 20,
   "id": "0b389868",
   "metadata": {},
   "outputs": [
    {
     "name": "stdout",
     "output_type": "stream",
     "text": [
      "SGD validation Accuracy : 65.771 %\n"
     ]
    }
   ],
   "source": [
    "sgd_validation_accuracy = round(\n",
    "    sgd.score(validation_embeddings, y_val),\n",
    "    5\n",
    ")\n",
    "\n",
    "print(f\"SGD validation Accuracy : {sgd_validation_accuracy * 100} %\")"
   ]
  },
  {
   "cell_type": "markdown",
   "id": "44e149f7",
   "metadata": {},
   "source": [
    "## C) Nu SVC"
   ]
  },
  {
   "cell_type": "code",
   "execution_count": 24,
   "id": "952632a6",
   "metadata": {},
   "outputs": [
    {
     "name": "stderr",
     "output_type": "stream",
     "text": [
      "E:\\miniconda3\\envs\\math4ml\\lib\\site-packages\\sklearn\\svm\\_base.py:255: ConvergenceWarning: Solver terminated early (max_iter=1000).  Consider pre-processing your data with StandardScaler or MinMaxScaler.\n",
      "  warnings.warn('Solver terminated early (max_iter=%i).'\n"
     ]
    }
   ],
   "source": [
    "nu_svc = svm.NuSVC(\n",
    "    max_iter=1000,\n",
    "    decision_function_shape=\"ovr\"\n",
    ").fit(embeddings[:10000], y_train[:10000])"
   ]
  },
  {
   "cell_type": "code",
   "execution_count": 25,
   "id": "3facafa5",
   "metadata": {},
   "outputs": [
    {
     "name": "stdout",
     "output_type": "stream",
     "text": [
      "Nu SVC Training Accuracy : 79.39 %\n"
     ]
    }
   ],
   "source": [
    "nu_svc_training_accuracy = round(\n",
    "    nu_svc.score(embeddings[:10000], y_train[:10000]),\n",
    "    5\n",
    ")\n",
    "\n",
    "print(f\"Nu SVC Training Accuracy : {nu_svc_training_accuracy * 100} %\")"
   ]
  },
  {
   "cell_type": "code",
   "execution_count": 26,
   "id": "ac272298",
   "metadata": {},
   "outputs": [
    {
     "name": "stdout",
     "output_type": "stream",
     "text": [
      "Nu SVC validation Accuracy : 66.035 %\n"
     ]
    }
   ],
   "source": [
    "nu_svc_validation_accuracy = round(\n",
    "    nu_svc.score(validation_embeddings[:10000], y_val[:10000]),\n",
    "    5\n",
    ")\n",
    "\n",
    "print(f\"Nu SVC validation Accuracy : {nu_svc_validation_accuracy * 100} %\")"
   ]
  },
  {
   "cell_type": "markdown",
   "id": "33831793",
   "metadata": {},
   "source": [
    "## D) Linear SVC"
   ]
  },
  {
   "cell_type": "code",
   "execution_count": 27,
   "id": "565b2b37",
   "metadata": {},
   "outputs": [],
   "source": [
    "linear_svm = svm.LinearSVC(max_iter=10000).fit(embeddings, y_train)"
   ]
  },
  {
   "cell_type": "code",
   "execution_count": 28,
   "id": "18b2c9dd",
   "metadata": {},
   "outputs": [
    {
     "name": "stdout",
     "output_type": "stream",
     "text": [
      "Linear SVM Training Accuracy : 69.186 %\n"
     ]
    }
   ],
   "source": [
    "svm_training_accuracy = round(\n",
    "    linear_svm.score(embeddings, y_train),\n",
    "    5\n",
    ")\n",
    "\n",
    "print(f\"Linear SVM Training Accuracy : {svm_training_accuracy * 100} %\")"
   ]
  },
  {
   "cell_type": "code",
   "execution_count": 29,
   "id": "6a25f96a",
   "metadata": {},
   "outputs": [
    {
     "name": "stdout",
     "output_type": "stream",
     "text": [
      "Linear SVM validation Accuracy : 67.878 %\n"
     ]
    }
   ],
   "source": [
    "svm_validation_accuracy = round(\n",
    "    linear_svm.score(validation_embeddings, y_val),\n",
    "    5\n",
    ")\n",
    "\n",
    "print(f\"Linear SVM validation Accuracy : {svm_validation_accuracy * 100} %\")"
   ]
  }
 ],
 "metadata": {
  "kernelspec": {
   "display_name": "Python 3 (ipykernel)",
   "language": "python",
   "name": "python3"
  },
  "language_info": {
   "codemirror_mode": {
    "name": "ipython",
    "version": 3
   },
   "file_extension": ".py",
   "mimetype": "text/x-python",
   "name": "python",
   "nbconvert_exporter": "python",
   "pygments_lexer": "ipython3",
   "version": "3.9.7"
  }
 },
 "nbformat": 4,
 "nbformat_minor": 5
}
